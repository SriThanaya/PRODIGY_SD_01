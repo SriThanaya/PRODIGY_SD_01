{
 "cells": [
  {
   "cell_type": "code",
   "execution_count": 1,
   "id": "abef40f0",
   "metadata": {},
   "outputs": [
    {
     "name": "stdout",
     "output_type": "stream",
     "text": [
      "Enter the temperature value: 90\n",
      "Enter the unit of measurement (Celsius, Fahrenheit, or Kelvin): Celsius\n",
      "90.0 celsius is equal to:\n",
      "194.0 Fahrenheit\n",
      "363.15 Kelvin\n"
     ]
    }
   ],
   "source": [
    "#task-1\n",
    "def celsius_to_fahrenheit(celsius):\n",
    "    return (celsius * 9/5) + 32\n",
    "\n",
    "def celsius_to_kelvin(celsius):\n",
    "    return celsius + 273.15\n",
    "\n",
    "def fahrenheit_to_celsius(fahrenheit):\n",
    "    return (fahrenheit - 32) * 5/9\n",
    "\n",
    "def fahrenheit_to_kelvin(fahrenheit):\n",
    "    celsius = fahrenheit_to_celsius(fahrenheit)\n",
    "    return celsius_to_kelvin(celsius)\n",
    "\n",
    "def kelvin_to_celsius(kelvin):\n",
    "    return kelvin - 273.15\n",
    "\n",
    "def kelvin_to_fahrenheit(kelvin):\n",
    "    celsius = kelvin_to_celsius(kelvin)\n",
    "    return celsius_to_fahrenheit(celsius)\n",
    "\n",
    "def temperature_converter():\n",
    "    temperature = float(input(\"Enter the temperature value: \"))\n",
    "    unit = input(\"Enter the unit of measurement (Celsius, Fahrenheit, or Kelvin): \").strip().lower()\n",
    "\n",
    "    if unit == \"celsius\":\n",
    "        fahrenheit = celsius_to_fahrenheit(temperature)\n",
    "        kelvin = celsius_to_kelvin(temperature)\n",
    "    elif unit == \"fahrenheit\":\n",
    "        celsius = fahrenheit_to_celsius(temperature)\n",
    "        kelvin = fahrenheit_to_kelvin(temperature)\n",
    "    elif unit == \"kelvin\":\n",
    "        celsius = kelvin_to_celsius(temperature)\n",
    "        fahrenheit = kelvin_to_fahrenheit(temperature)\n",
    "    else:\n",
    "        print(\"Invalid unit of measurement. Please enter Celsius, Fahrenheit, or Kelvin.\")\n",
    "        return\n",
    "\n",
    "    print(f\"{temperature} {unit} is equal to:\")\n",
    "    \n",
    "    if \"fahrenheit\" in locals():\n",
    "        print(f\"{fahrenheit} Fahrenheit\")\n",
    "    if \"celsius\" in locals():\n",
    "        print(f\"{celsius} Celsius\")\n",
    "    if \"kelvin\" in locals():\n",
    "        print(f\"{kelvin} Kelvin\")\n",
    "\n",
    "temperature_converter()\n"
   ]
  },
  {
   "cell_type": "code",
   "execution_count": null,
   "id": "4e17cf16",
   "metadata": {},
   "outputs": [],
   "source": []
  },
  {
   "cell_type": "code",
   "execution_count": null,
   "id": "7e4327d9",
   "metadata": {},
   "outputs": [],
   "source": []
  }
 ],
 "metadata": {
  "kernelspec": {
   "display_name": "Python 3 (ipykernel)",
   "language": "python",
   "name": "python3"
  },
  "language_info": {
   "codemirror_mode": {
    "name": "ipython",
    "version": 3
   },
   "file_extension": ".py",
   "mimetype": "text/x-python",
   "name": "python",
   "nbconvert_exporter": "python",
   "pygments_lexer": "ipython3",
   "version": "3.11.5"
  }
 },
 "nbformat": 4,
 "nbformat_minor": 5
}
